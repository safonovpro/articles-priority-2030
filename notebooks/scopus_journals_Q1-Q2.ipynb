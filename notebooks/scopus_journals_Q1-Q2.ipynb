{
 "cells": [
  {
   "cell_type": "code",
   "execution_count": 1,
   "metadata": {
    "collapsed": true
   },
   "outputs": [],
   "source": [
    "import pandas as pd\n",
    "\n",
    "# Настройка для правильного отображения дробной части чисел\n",
    "pd.set_option(\"display.precision\", 15)"
   ]
  },
  {
   "cell_type": "markdown",
   "source": [
    "# Журналы  Scopus Q1 и Q2 по SNIP с учётом методики «Приоритет 2030»\n",
    "\n",
    "Основная цель данной заметки проиллюстрировать методы и механики, которые позволят университетам отфильтровать из общего перечня журналов индексируемых в Scopus, журналы, написания статей в которых позволит выполнять показатели государственной программы поддержки университетов Российской Федерации — [«Приоритет 2030»](https://priority2030.ru/).\n",
    "\n",
    "## Нормативнык документы\n",
    "\n",
    "Методика расчёта целевых показателей эффективности описана в [Приказе Министерства науки и высшего образования Российской Федерации от 31.05.2021 № 432](http://publication.pravo.gov.ru/Document/View/0001202106230024?index=0&rangeSize=1). Нас интересует один показатель Р2(с1) —Количество публикаций, индексируемых в базе данных Scopus и отнесенных к I и II квартилям SNIP, в расчете на одного НПР. Методика расчёт данного показателя описан следующм образом:\n",
    "\n",
    "> Отношение числа публикаций университета, определенное фракционным (дробным) счетом по организациям, за отчетный год и два года, предшествующих отчетному, в научных журналах I и II квартилей (по величине показателя Source Normalized Impact per Paper), индексируемых в базе данных Scopus, к средней списочной численности НПР за отчетный год.\n",
    "> Расчет ведется по данным аналитической системы SciVal, справочно на 1 января года, следующего за отчетным, фактически на 1 июля года, следующего за отчетным. Учитываются публикации типов \"Article\", \"Review\" в журналах (\"Journal\"), которые не включены в список источников, индексация которых прекращена.\n",
    "> Значение SNIP должно иметь 95% достоверности по данным CWTS (https://journalindicators.com/). Учитываются только публикации, привязанные к верифицированному профилю организации в базе данных Scopus.\n",
    "> Для компьютерных наук дополнительно учитываются публикации типа “Conference Proceeding”, сделанные на конференциях уровня А* в области компьютерных наук (список конференций уровня А* в компьютерных науках по рейтингу CORE (версия 2020 года) приведен в приложении к настоящему перечню).\n",
    "> Из учета исключаются публикации \"Article in Press\".\n",
    "> Совместные публикации учитываются на основе метода фракционного (дробного) счета. Если у статьи несколько авторов, то балл публикации делится поровну между авторами. Если авторы публикации аффилированы с более чем одной организацией, то балл автора делится поровну между аффилиациями. Университет получает балл за публикацию, равный сумме баллов всех авторов с его аффилиацией.\n",
    "\n",
    "## Используемые исходные данные\n",
    "\n",
    "Все ниже приведённые данные **акутальны на момент написания данного материала** — 15 декабря 2021 года.\n",
    "\n",
    "* Выгрузка списка источников и показателей Scopus, скачанная со [страницы Scopus](https://www.scopus.com/sources.uri?zone=TopNavBar&origin=searchbasic) (проиллюстрированно ниже на gif-анимации). Компания Elsevier предоставляет данные в виде файла с расширением xlsb и начиная с 2011 года. Для данного материала я ограничился данными 2020 года и для удобства работы экспортировал из в файл csv.\n",
    "\n",
    "![](../assets/images/scopus-download-sources.gif)\n",
    "\n",
    "* Компания Elsevier для упрощения жизни университетам и аналитикам создала специальную [страницу посвящённую прорамме «Приоритет 2030»](https://elsevierscience.ru/info/programma-prioritet-2030/), на которой опубликовала [«Пороговые значения SNIP для 1%, 5%, 10%, 25%, 50%, 75%»](https://elsevierscience.ru/files/SNIP_Thresholds_25Jun2021.xlsx). Для удобноства данные так же переведены в [формат csv](https://github.com/safonovpro/articles-priority-2030/blob/master/data/snip-thresholds.csv)\n",
    "* Также нам понадобится данные Центра научных и технологических исследований Лейденского университета, для определения «95% достоверности», которые можно скачать с [данной страницы](https://www.journalindicators.com/downloads). Исходный файл имеет формат xlsx, который для удобства работы я заменил на [csv-файл](https://github.com/safonovpro/articles-priority-2030/blob/master/data/cwts-journal-indicators.csv).\n",
    "\n",
    "### Подготовка исходных данных для работы\n",
    "\n",
    "Приведём в порядок данные от Scopus, оставим только необходимое и посмотрим на первые 10 строк:\n"
   ],
   "metadata": {
    "collapsed": false
   }
  },
  {
   "cell_type": "code",
   "execution_count": 2,
   "outputs": [
    {
     "data": {
      "text/plain": "   Scopus Source ID                                              Title  \\\n0             12001   Journal of the Experimental Analysis of Behavior   \n1             12002  Journal of the History of the Behavioral Sciences   \n2             12004                 Journal of Trauma and Dissociation   \n3             12005                        Journal of Traumatic Stress   \n4             12006                     Journal of Vocational Behavior   \n5             12008                               Teruleti Statisztika   \n6             12010                        Annual Review of Psychology   \n7             12013                            Revue des Etudes Juives   \n8             12014                              Anuario de Psicologia   \n9             12016  Canadian Journal of Fisheries and Aquatic Scie...   \n\n     SNIP Print ISSN    E-ISSN  \n0   1.104   00225002  19383711  \n1   1.215   00225061  15206696  \n2   1.058   15299732  15299740  \n3   1.351   08949867  15736598  \n4   2.800   00018791  10959084  \n5   0.694   00187828  20648251  \n6  10.632   00664308  15452085  \n7   0.000   04848616  1783175X  \n8   0.252   00665126         -  \n9   1.085   0706652X  12057533  ",
      "text/html": "<div>\n<style scoped>\n    .dataframe tbody tr th:only-of-type {\n        vertical-align: middle;\n    }\n\n    .dataframe tbody tr th {\n        vertical-align: top;\n    }\n\n    .dataframe thead th {\n        text-align: right;\n    }\n</style>\n<table border=\"1\" class=\"dataframe\">\n  <thead>\n    <tr style=\"text-align: right;\">\n      <th></th>\n      <th>Scopus Source ID</th>\n      <th>Title</th>\n      <th>SNIP</th>\n      <th>Print ISSN</th>\n      <th>E-ISSN</th>\n    </tr>\n  </thead>\n  <tbody>\n    <tr>\n      <th>0</th>\n      <td>12001</td>\n      <td>Journal of the Experimental Analysis of Behavior</td>\n      <td>1.104</td>\n      <td>00225002</td>\n      <td>19383711</td>\n    </tr>\n    <tr>\n      <th>1</th>\n      <td>12002</td>\n      <td>Journal of the History of the Behavioral Sciences</td>\n      <td>1.215</td>\n      <td>00225061</td>\n      <td>15206696</td>\n    </tr>\n    <tr>\n      <th>2</th>\n      <td>12004</td>\n      <td>Journal of Trauma and Dissociation</td>\n      <td>1.058</td>\n      <td>15299732</td>\n      <td>15299740</td>\n    </tr>\n    <tr>\n      <th>3</th>\n      <td>12005</td>\n      <td>Journal of Traumatic Stress</td>\n      <td>1.351</td>\n      <td>08949867</td>\n      <td>15736598</td>\n    </tr>\n    <tr>\n      <th>4</th>\n      <td>12006</td>\n      <td>Journal of Vocational Behavior</td>\n      <td>2.800</td>\n      <td>00018791</td>\n      <td>10959084</td>\n    </tr>\n    <tr>\n      <th>5</th>\n      <td>12008</td>\n      <td>Teruleti Statisztika</td>\n      <td>0.694</td>\n      <td>00187828</td>\n      <td>20648251</td>\n    </tr>\n    <tr>\n      <th>6</th>\n      <td>12010</td>\n      <td>Annual Review of Psychology</td>\n      <td>10.632</td>\n      <td>00664308</td>\n      <td>15452085</td>\n    </tr>\n    <tr>\n      <th>7</th>\n      <td>12013</td>\n      <td>Revue des Etudes Juives</td>\n      <td>0.000</td>\n      <td>04848616</td>\n      <td>1783175X</td>\n    </tr>\n    <tr>\n      <th>8</th>\n      <td>12014</td>\n      <td>Anuario de Psicologia</td>\n      <td>0.252</td>\n      <td>00665126</td>\n      <td>-</td>\n    </tr>\n    <tr>\n      <th>9</th>\n      <td>12016</td>\n      <td>Canadian Journal of Fisheries and Aquatic Scie...</td>\n      <td>1.085</td>\n      <td>0706652X</td>\n      <td>12057533</td>\n    </tr>\n  </tbody>\n</table>\n</div>"
     },
     "execution_count": 2,
     "metadata": {},
     "output_type": "execute_result"
    }
   ],
   "source": [
    "scopus = pd.read_csv('../data/scopus-sources-2020.csv', dtype={\n",
    "    \"Print ISSN\": str,\n",
    "    \"E-ISSN\": str\n",
    "}).fillna({\n",
    "    \"Print ISSN\": '-',\n",
    "    \"E-ISSN\": '-'\n",
    "})[['Scopus Source ID', 'Title', 'SNIP', 'Print ISSN', 'E-ISSN']].drop_duplicates(subset=['Scopus Source ID']).reset_index(drop=True)\n",
    "scopus['Print ISSN'] = scopus['Print ISSN'].apply(lambda x: x if x == '-' or len(x) >= 8 else '0' * (8 - len(x)) + x)\n",
    "scopus['E-ISSN'] = scopus['E-ISSN'].apply(lambda x: x if x == '-' or len(x) >= 8 else '0' * (8 - len(x)) + x)\n",
    "scopus.head(10)"
   ],
   "metadata": {
    "collapsed": false,
    "pycharm": {
     "name": "#%%\n"
    }
   }
  },
  {
   "cell_type": "markdown",
   "source": [
    "Далее подготовим данные от Лейденского университета и посмотрим на них:"
   ],
   "metadata": {
    "collapsed": false
   }
  },
  {
   "cell_type": "code",
   "execution_count": 3,
   "outputs": [
    {
     "data": {
      "text/plain": "                                        Source title Print ISSN  \\\n0  1700-tal: Nordic Journal for Eighteenth-Centur...          -   \n1                                       2D Materials          -   \n2                                          3 Biotech  2190-572X   \n3             3D Printing and Additive Manufacturing  2329-7662   \n4                                        3D Research          -   \n5              3L: Language, Linguistics, Literature  0128-5157   \n6                                                4OR  1619-4500   \n7                    A + U-Architecture and Urbanism  0389-9160   \n8                                        A Contrario  1660-7880   \n9                        a/b: Auto/Biography Studies  2151-7290   \n\n  Electronic ISSN               SNIP  SNIP (lower bound)  \n0               -  0.000000000000000   0.000000000000000  \n1       2053-1583  1.402114501064720   1.264999705773590  \n2       2190-5738  0.993577332517916   0.920931816089613  \n3       2329-7670  1.360014718156880   0.974910682486529  \n4       2092-6731  1.196988391345570   0.913153657740477  \n5       2550-2247  1.224709099508030   0.911434584429030  \n6       1614-2411  1.242297207499040   0.847410262619304  \n7               -  0.000000000000000   0.000000000000000  \n8       1662-8667  0.000000000000000   0.000000000000000  \n9               -  1.156233776121340   0.598716035195324  ",
      "text/html": "<div>\n<style scoped>\n    .dataframe tbody tr th:only-of-type {\n        vertical-align: middle;\n    }\n\n    .dataframe tbody tr th {\n        vertical-align: top;\n    }\n\n    .dataframe thead th {\n        text-align: right;\n    }\n</style>\n<table border=\"1\" class=\"dataframe\">\n  <thead>\n    <tr style=\"text-align: right;\">\n      <th></th>\n      <th>Source title</th>\n      <th>Print ISSN</th>\n      <th>Electronic ISSN</th>\n      <th>SNIP</th>\n      <th>SNIP (lower bound)</th>\n    </tr>\n  </thead>\n  <tbody>\n    <tr>\n      <th>0</th>\n      <td>1700-tal: Nordic Journal for Eighteenth-Centur...</td>\n      <td>-</td>\n      <td>-</td>\n      <td>0.000000000000000</td>\n      <td>0.000000000000000</td>\n    </tr>\n    <tr>\n      <th>1</th>\n      <td>2D Materials</td>\n      <td>-</td>\n      <td>2053-1583</td>\n      <td>1.402114501064720</td>\n      <td>1.264999705773590</td>\n    </tr>\n    <tr>\n      <th>2</th>\n      <td>3 Biotech</td>\n      <td>2190-572X</td>\n      <td>2190-5738</td>\n      <td>0.993577332517916</td>\n      <td>0.920931816089613</td>\n    </tr>\n    <tr>\n      <th>3</th>\n      <td>3D Printing and Additive Manufacturing</td>\n      <td>2329-7662</td>\n      <td>2329-7670</td>\n      <td>1.360014718156880</td>\n      <td>0.974910682486529</td>\n    </tr>\n    <tr>\n      <th>4</th>\n      <td>3D Research</td>\n      <td>-</td>\n      <td>2092-6731</td>\n      <td>1.196988391345570</td>\n      <td>0.913153657740477</td>\n    </tr>\n    <tr>\n      <th>5</th>\n      <td>3L: Language, Linguistics, Literature</td>\n      <td>0128-5157</td>\n      <td>2550-2247</td>\n      <td>1.224709099508030</td>\n      <td>0.911434584429030</td>\n    </tr>\n    <tr>\n      <th>6</th>\n      <td>4OR</td>\n      <td>1619-4500</td>\n      <td>1614-2411</td>\n      <td>1.242297207499040</td>\n      <td>0.847410262619304</td>\n    </tr>\n    <tr>\n      <th>7</th>\n      <td>A + U-Architecture and Urbanism</td>\n      <td>0389-9160</td>\n      <td>-</td>\n      <td>0.000000000000000</td>\n      <td>0.000000000000000</td>\n    </tr>\n    <tr>\n      <th>8</th>\n      <td>A Contrario</td>\n      <td>1660-7880</td>\n      <td>1662-8667</td>\n      <td>0.000000000000000</td>\n      <td>0.000000000000000</td>\n    </tr>\n    <tr>\n      <th>9</th>\n      <td>a/b: Auto/Biography Studies</td>\n      <td>2151-7290</td>\n      <td>-</td>\n      <td>1.156233776121340</td>\n      <td>0.598716035195324</td>\n    </tr>\n  </tbody>\n</table>\n</div>"
     },
     "execution_count": 3,
     "metadata": {},
     "output_type": "execute_result"
    }
   ],
   "source": [
    "cwts = pd.read_csv('../data/cwts-journal-indicators.csv', dtype={\n",
    "    \"Print ISSN\": str,\n",
    "    \"Electronic ISSN\": str,\n",
    "})[['Source title', 'Print ISSN', 'Electronic ISSN', 'SNIP', 'SNIP (lower bound)', 'Source type', 'Year']]\n",
    "cwts = cwts[(cwts['Source type'] == 'Journal') & (cwts['Year'] == 2020)].drop(columns=['Source type', 'Year']).reset_index(drop=True)\n",
    "cwts.head(10)"
   ],
   "metadata": {
    "collapsed": false,
    "pycharm": {
     "name": "#%%\n"
    }
   }
  },
  {
   "cell_type": "markdown",
   "source": [
    "## Получаем данные для работы\n",
    "\n",
    "Чтобы всё работало быстрее при объединении данных двух таблиц `scopus` и `cwts`, разделим данные по значениям `SNIP` и `SNIP (lower bound)` в две разных таблицы и построим их индексы по кодам `Print ISSN` и `Electronic ISSN`:"
   ],
   "metadata": {
    "collapsed": false
   }
  },
  {
   "cell_type": "code",
   "execution_count": 4,
   "outputs": [],
   "source": [
    "issn_data = pd.DataFrame(columns=['snip', 'lower_bound'])\n",
    "eissn_data = pd.DataFrame(columns=['snip', 'lower_bound'])\n",
    "\n",
    "for i, cwts_row in cwts.iterrows():\n",
    "    issn_value = cwts_row['Print ISSN'].replace('-', '')\n",
    "    eissn_value = cwts_row['Electronic ISSN'].replace('-', '')\n",
    "\n",
    "    if issn_value != '' and issn_value not in issn_data.index:\n",
    "        issn_data.loc[issn_value] = {\n",
    "            \"snip\": cwts_row['SNIP'],\n",
    "            \"lower_bound\": cwts_row['SNIP (lower bound)']\n",
    "        }\n",
    "\n",
    "    if eissn_value != '' and eissn_value not in eissn_data.index:\n",
    "        eissn_data.loc[eissn_value] = {\n",
    "            \"snip\": cwts_row['SNIP'],\n",
    "            \"lower_bound\": cwts_row['SNIP (lower bound)']\n",
    "        }"
   ],
   "metadata": {
    "collapsed": false,
    "pycharm": {
     "name": "#%%\n"
    }
   }
  },
  {
   "cell_type": "code",
   "execution_count": 5,
   "outputs": [
    {
     "data": {
      "text/plain": "                       snip        lower_bound\n2190572X  0.993577332517916  0.920931816089613\n23297662  1.360014718156880  0.974910682486529\n01285157  1.224709099508030  0.911434584429030\n16194500  1.242297207499040  0.847410262619304\n03899160  0.000000000000000  0.000000000000000\n16607880  0.000000000000000  0.000000000000000\n21517290  1.156233776121340  0.598716035195324\n13028324  0.429876305632236  0.216193767826047\n01715410  0.058641975308642  0.000000000000000\n07434618  1.537999071851700  1.117962628886490",
      "text/html": "<div>\n<style scoped>\n    .dataframe tbody tr th:only-of-type {\n        vertical-align: middle;\n    }\n\n    .dataframe tbody tr th {\n        vertical-align: top;\n    }\n\n    .dataframe thead th {\n        text-align: right;\n    }\n</style>\n<table border=\"1\" class=\"dataframe\">\n  <thead>\n    <tr style=\"text-align: right;\">\n      <th></th>\n      <th>snip</th>\n      <th>lower_bound</th>\n    </tr>\n  </thead>\n  <tbody>\n    <tr>\n      <th>2190572X</th>\n      <td>0.993577332517916</td>\n      <td>0.920931816089613</td>\n    </tr>\n    <tr>\n      <th>23297662</th>\n      <td>1.360014718156880</td>\n      <td>0.974910682486529</td>\n    </tr>\n    <tr>\n      <th>01285157</th>\n      <td>1.224709099508030</td>\n      <td>0.911434584429030</td>\n    </tr>\n    <tr>\n      <th>16194500</th>\n      <td>1.242297207499040</td>\n      <td>0.847410262619304</td>\n    </tr>\n    <tr>\n      <th>03899160</th>\n      <td>0.000000000000000</td>\n      <td>0.000000000000000</td>\n    </tr>\n    <tr>\n      <th>16607880</th>\n      <td>0.000000000000000</td>\n      <td>0.000000000000000</td>\n    </tr>\n    <tr>\n      <th>21517290</th>\n      <td>1.156233776121340</td>\n      <td>0.598716035195324</td>\n    </tr>\n    <tr>\n      <th>13028324</th>\n      <td>0.429876305632236</td>\n      <td>0.216193767826047</td>\n    </tr>\n    <tr>\n      <th>01715410</th>\n      <td>0.058641975308642</td>\n      <td>0.000000000000000</td>\n    </tr>\n    <tr>\n      <th>07434618</th>\n      <td>1.537999071851700</td>\n      <td>1.117962628886490</td>\n    </tr>\n  </tbody>\n</table>\n</div>"
     },
     "execution_count": 5,
     "metadata": {},
     "output_type": "execute_result"
    }
   ],
   "source": [
    "issn_data.head(10)"
   ],
   "metadata": {
    "collapsed": false,
    "pycharm": {
     "name": "#%%\n"
    }
   }
  },
  {
   "cell_type": "code",
   "execution_count": 6,
   "outputs": [
    {
     "data": {
      "text/plain": "                       snip        lower_bound\n20531583  1.402114501064720  1.264999705773590\n21905738  0.993577332517916  0.920931816089613\n23297670  1.360014718156880  0.974910682486529\n20926731  1.196988391345570  0.913153657740477\n25502247  1.224709099508030  0.911434584429030\n16142411  1.242297207499040  0.847410262619304\n16628667  0.000000000000000  0.000000000000000\n14773848  1.537999071851700  1.117962628886490\n18449166  1.138377187201150  0.966130967383598\n15597776  0.604504601907020  0.414523869746992",
      "text/html": "<div>\n<style scoped>\n    .dataframe tbody tr th:only-of-type {\n        vertical-align: middle;\n    }\n\n    .dataframe tbody tr th {\n        vertical-align: top;\n    }\n\n    .dataframe thead th {\n        text-align: right;\n    }\n</style>\n<table border=\"1\" class=\"dataframe\">\n  <thead>\n    <tr style=\"text-align: right;\">\n      <th></th>\n      <th>snip</th>\n      <th>lower_bound</th>\n    </tr>\n  </thead>\n  <tbody>\n    <tr>\n      <th>20531583</th>\n      <td>1.402114501064720</td>\n      <td>1.264999705773590</td>\n    </tr>\n    <tr>\n      <th>21905738</th>\n      <td>0.993577332517916</td>\n      <td>0.920931816089613</td>\n    </tr>\n    <tr>\n      <th>23297670</th>\n      <td>1.360014718156880</td>\n      <td>0.974910682486529</td>\n    </tr>\n    <tr>\n      <th>20926731</th>\n      <td>1.196988391345570</td>\n      <td>0.913153657740477</td>\n    </tr>\n    <tr>\n      <th>25502247</th>\n      <td>1.224709099508030</td>\n      <td>0.911434584429030</td>\n    </tr>\n    <tr>\n      <th>16142411</th>\n      <td>1.242297207499040</td>\n      <td>0.847410262619304</td>\n    </tr>\n    <tr>\n      <th>16628667</th>\n      <td>0.000000000000000</td>\n      <td>0.000000000000000</td>\n    </tr>\n    <tr>\n      <th>14773848</th>\n      <td>1.537999071851700</td>\n      <td>1.117962628886490</td>\n    </tr>\n    <tr>\n      <th>18449166</th>\n      <td>1.138377187201150</td>\n      <td>0.966130967383598</td>\n    </tr>\n    <tr>\n      <th>15597776</th>\n      <td>0.604504601907020</td>\n      <td>0.414523869746992</td>\n    </tr>\n  </tbody>\n</table>\n</div>"
     },
     "execution_count": 6,
     "metadata": {},
     "output_type": "execute_result"
    }
   ],
   "source": [
    "eissn_data.head(10)"
   ],
   "metadata": {
    "collapsed": false,
    "pycharm": {
     "name": "#%%\n"
    }
   }
  },
  {
   "cell_type": "markdown",
   "source": [
    "Далее нам необходимо применить полученные структуры, для обогащения исходных данных Scopus, где:\n",
    "\n",
    "* **cwts_snip** — значение SNIP с большим количеством знаков после запятой\n",
    "* **cwts_lower_bound** — значение SNIP удовлетворяющее *«95% достоверности»* из методики"
   ],
   "metadata": {
    "collapsed": false
   }
  },
  {
   "cell_type": "markdown",
   "source": [],
   "metadata": {
    "collapsed": false
   }
  },
  {
   "cell_type": "code",
   "execution_count": 7,
   "outputs": [
    {
     "data": {
      "text/plain": "   Scopus Source ID                                              Title  \\\n0             12001   Journal of the Experimental Analysis of Behavior   \n1             12002  Journal of the History of the Behavioral Sciences   \n2             12004                 Journal of Trauma and Dissociation   \n3             12005                        Journal of Traumatic Stress   \n4             12006                     Journal of Vocational Behavior   \n5             12008                               Teruleti Statisztika   \n6             12010                        Annual Review of Psychology   \n7             12013                            Revue des Etudes Juives   \n8             12014                              Anuario de Psicologia   \n9             12016  Canadian Journal of Fisheries and Aquatic Scie...   \n\n     SNIP Print ISSN    E-ISSN           cwts_snip   cwts_lower_bound  \n0   1.104   00225002  19383711   1.104171173126670  0.883270171837390  \n1   1.215   00225061  15206696   1.215310657962800  0.621836776443208  \n2   1.058   15299732  15299740   1.057836649303670  0.762359841431676  \n3   1.351   08949867  15736598   1.350698523834130  1.158925521492220  \n4   2.800   00018791  10959084   2.800203567140800  2.391747935574450  \n5   0.694   00187828  20648251   0.694195102879223  0.460177645474752  \n6  10.632   00664308  15452085  10.631974196653900  8.585659616132149  \n7   0.000   04848616  1783175X   0.000000000000000  0.000000000000000  \n8   0.252   00665126         -   0.251792301023991  0.086438007782370  \n9   1.085   0706652X  12057533   1.084503475669520  0.978189484517752  ",
      "text/html": "<div>\n<style scoped>\n    .dataframe tbody tr th:only-of-type {\n        vertical-align: middle;\n    }\n\n    .dataframe tbody tr th {\n        vertical-align: top;\n    }\n\n    .dataframe thead th {\n        text-align: right;\n    }\n</style>\n<table border=\"1\" class=\"dataframe\">\n  <thead>\n    <tr style=\"text-align: right;\">\n      <th></th>\n      <th>Scopus Source ID</th>\n      <th>Title</th>\n      <th>SNIP</th>\n      <th>Print ISSN</th>\n      <th>E-ISSN</th>\n      <th>cwts_snip</th>\n      <th>cwts_lower_bound</th>\n    </tr>\n  </thead>\n  <tbody>\n    <tr>\n      <th>0</th>\n      <td>12001</td>\n      <td>Journal of the Experimental Analysis of Behavior</td>\n      <td>1.104</td>\n      <td>00225002</td>\n      <td>19383711</td>\n      <td>1.104171173126670</td>\n      <td>0.883270171837390</td>\n    </tr>\n    <tr>\n      <th>1</th>\n      <td>12002</td>\n      <td>Journal of the History of the Behavioral Sciences</td>\n      <td>1.215</td>\n      <td>00225061</td>\n      <td>15206696</td>\n      <td>1.215310657962800</td>\n      <td>0.621836776443208</td>\n    </tr>\n    <tr>\n      <th>2</th>\n      <td>12004</td>\n      <td>Journal of Trauma and Dissociation</td>\n      <td>1.058</td>\n      <td>15299732</td>\n      <td>15299740</td>\n      <td>1.057836649303670</td>\n      <td>0.762359841431676</td>\n    </tr>\n    <tr>\n      <th>3</th>\n      <td>12005</td>\n      <td>Journal of Traumatic Stress</td>\n      <td>1.351</td>\n      <td>08949867</td>\n      <td>15736598</td>\n      <td>1.350698523834130</td>\n      <td>1.158925521492220</td>\n    </tr>\n    <tr>\n      <th>4</th>\n      <td>12006</td>\n      <td>Journal of Vocational Behavior</td>\n      <td>2.800</td>\n      <td>00018791</td>\n      <td>10959084</td>\n      <td>2.800203567140800</td>\n      <td>2.391747935574450</td>\n    </tr>\n    <tr>\n      <th>5</th>\n      <td>12008</td>\n      <td>Teruleti Statisztika</td>\n      <td>0.694</td>\n      <td>00187828</td>\n      <td>20648251</td>\n      <td>0.694195102879223</td>\n      <td>0.460177645474752</td>\n    </tr>\n    <tr>\n      <th>6</th>\n      <td>12010</td>\n      <td>Annual Review of Psychology</td>\n      <td>10.632</td>\n      <td>00664308</td>\n      <td>15452085</td>\n      <td>10.631974196653900</td>\n      <td>8.585659616132149</td>\n    </tr>\n    <tr>\n      <th>7</th>\n      <td>12013</td>\n      <td>Revue des Etudes Juives</td>\n      <td>0.000</td>\n      <td>04848616</td>\n      <td>1783175X</td>\n      <td>0.000000000000000</td>\n      <td>0.000000000000000</td>\n    </tr>\n    <tr>\n      <th>8</th>\n      <td>12014</td>\n      <td>Anuario de Psicologia</td>\n      <td>0.252</td>\n      <td>00665126</td>\n      <td>-</td>\n      <td>0.251792301023991</td>\n      <td>0.086438007782370</td>\n    </tr>\n    <tr>\n      <th>9</th>\n      <td>12016</td>\n      <td>Canadian Journal of Fisheries and Aquatic Scie...</td>\n      <td>1.085</td>\n      <td>0706652X</td>\n      <td>12057533</td>\n      <td>1.084503475669520</td>\n      <td>0.978189484517752</td>\n    </tr>\n  </tbody>\n</table>\n</div>"
     },
     "execution_count": 7,
     "metadata": {},
     "output_type": "execute_result"
    }
   ],
   "source": [
    "scopus['cwts_snip'] = 0\n",
    "scopus['cwts_lower_bound'] = 0\n",
    "\n",
    "for i, scopus_row in scopus.iterrows():\n",
    "    issn_value = scopus_row['Print ISSN']\n",
    "    issn_list = issn_value.split(' ') if issn_value != '-' else []\n",
    "    eissn_value = scopus_row['E-ISSN']\n",
    "    eissn_list = eissn_value.split(' ') if eissn_value != '-' else []\n",
    "    found_in_issn = False\n",
    "\n",
    "    for issn in issn_list:\n",
    "        if issn in issn_data.index:\n",
    "            scopus.loc[i, 'cwts_snip'] = issn_data.loc[issn, 'snip']\n",
    "            scopus.loc[i, 'cwts_lower_bound'] = issn_data.loc[issn, 'lower_bound']\n",
    "            found_in_issn = True\n",
    "            break\n",
    "\n",
    "    if ~found_in_issn:\n",
    "        for eissn in eissn_list:\n",
    "            if eissn in eissn_data.index:\n",
    "                scopus.loc[i, 'cwts_snip'] = eissn_data.loc[eissn, 'snip']\n",
    "                scopus.loc[i, 'cwts_lower_bound'] = eissn_data.loc[eissn, 'lower_bound']\n",
    "                break\n",
    "\n",
    "scopus.head(10)"
   ],
   "metadata": {
    "collapsed": false,
    "pycharm": {
     "name": "#%%\n"
    }
   }
  },
  {
   "cell_type": "markdown",
   "source": [
    "Напоследок используя данные Elsevire про границы квартильности за 2020 год создадим столбец `quartile` в данных Scopus с учётом следующего:\n",
    "\n",
    "* Q1 — для журналов `cwts_lower_bound` больше или равен `threshvalue25`;\n",
    "* Q1* — для журналов не вошедших в `Q1`, где `cwts_snip` больше или равен `threshvalue25`;\n",
    "* Q2 — для журналов не вошедших в `Q1` или `Q1*`, где `cwts_lower_bound` больше или равен `threshvalue50`;\n",
    "* Q2* — для журналов не вошедших в `Q1`, `Q1*`, `Q2`, где `cwts_snip` больше или равен `threshvalue50`;\n",
    "* Other — для всех остальных журналов"
   ],
   "metadata": {
    "collapsed": false
   }
  },
  {
   "cell_type": "code",
   "execution_count": 9,
   "outputs": [
    {
     "data": {
      "text/plain": "   Scopus Source ID                                              Title  \\\n0             12001   Journal of the Experimental Analysis of Behavior   \n1             12002  Journal of the History of the Behavioral Sciences   \n2             12004                 Journal of Trauma and Dissociation   \n3             12005                        Journal of Traumatic Stress   \n4             12006                     Journal of Vocational Behavior   \n5             12008                               Teruleti Statisztika   \n6             12010                        Annual Review of Psychology   \n7             12013                            Revue des Etudes Juives   \n8             12014                              Anuario de Psicologia   \n9             12016  Canadian Journal of Fisheries and Aquatic Scie...   \n\n     SNIP Print ISSN    E-ISSN           cwts_snip   cwts_lower_bound quartile  \n0   1.104   00225002  19383711   1.104171173126670  0.883270171837390       Q2  \n1   1.215   00225061  15206696   1.215310657962800  0.621836776443208      Q1*  \n2   1.058   15299732  15299740   1.057836649303670  0.762359841431676      Q2*  \n3   1.351   08949867  15736598   1.350698523834130  1.158925521492220      Q1*  \n4   2.800   00018791  10959084   2.800203567140800  2.391747935574450       Q1  \n5   0.694   00187828  20648251   0.694195102879223  0.460177645474752    Other  \n6  10.632   00664308  15452085  10.631974196653900  8.585659616132149       Q1  \n7   0.000   04848616  1783175X   0.000000000000000  0.000000000000000    Other  \n8   0.252   00665126         -   0.251792301023991  0.086438007782370    Other  \n9   1.085   0706652X  12057533   1.084503475669520  0.978189484517752       Q2  ",
      "text/html": "<div>\n<style scoped>\n    .dataframe tbody tr th:only-of-type {\n        vertical-align: middle;\n    }\n\n    .dataframe tbody tr th {\n        vertical-align: top;\n    }\n\n    .dataframe thead th {\n        text-align: right;\n    }\n</style>\n<table border=\"1\" class=\"dataframe\">\n  <thead>\n    <tr style=\"text-align: right;\">\n      <th></th>\n      <th>Scopus Source ID</th>\n      <th>Title</th>\n      <th>SNIP</th>\n      <th>Print ISSN</th>\n      <th>E-ISSN</th>\n      <th>cwts_snip</th>\n      <th>cwts_lower_bound</th>\n      <th>quartile</th>\n    </tr>\n  </thead>\n  <tbody>\n    <tr>\n      <th>0</th>\n      <td>12001</td>\n      <td>Journal of the Experimental Analysis of Behavior</td>\n      <td>1.104</td>\n      <td>00225002</td>\n      <td>19383711</td>\n      <td>1.104171173126670</td>\n      <td>0.883270171837390</td>\n      <td>Q2</td>\n    </tr>\n    <tr>\n      <th>1</th>\n      <td>12002</td>\n      <td>Journal of the History of the Behavioral Sciences</td>\n      <td>1.215</td>\n      <td>00225061</td>\n      <td>15206696</td>\n      <td>1.215310657962800</td>\n      <td>0.621836776443208</td>\n      <td>Q1*</td>\n    </tr>\n    <tr>\n      <th>2</th>\n      <td>12004</td>\n      <td>Journal of Trauma and Dissociation</td>\n      <td>1.058</td>\n      <td>15299732</td>\n      <td>15299740</td>\n      <td>1.057836649303670</td>\n      <td>0.762359841431676</td>\n      <td>Q2*</td>\n    </tr>\n    <tr>\n      <th>3</th>\n      <td>12005</td>\n      <td>Journal of Traumatic Stress</td>\n      <td>1.351</td>\n      <td>08949867</td>\n      <td>15736598</td>\n      <td>1.350698523834130</td>\n      <td>1.158925521492220</td>\n      <td>Q1*</td>\n    </tr>\n    <tr>\n      <th>4</th>\n      <td>12006</td>\n      <td>Journal of Vocational Behavior</td>\n      <td>2.800</td>\n      <td>00018791</td>\n      <td>10959084</td>\n      <td>2.800203567140800</td>\n      <td>2.391747935574450</td>\n      <td>Q1</td>\n    </tr>\n    <tr>\n      <th>5</th>\n      <td>12008</td>\n      <td>Teruleti Statisztika</td>\n      <td>0.694</td>\n      <td>00187828</td>\n      <td>20648251</td>\n      <td>0.694195102879223</td>\n      <td>0.460177645474752</td>\n      <td>Other</td>\n    </tr>\n    <tr>\n      <th>6</th>\n      <td>12010</td>\n      <td>Annual Review of Psychology</td>\n      <td>10.632</td>\n      <td>00664308</td>\n      <td>15452085</td>\n      <td>10.631974196653900</td>\n      <td>8.585659616132149</td>\n      <td>Q1</td>\n    </tr>\n    <tr>\n      <th>7</th>\n      <td>12013</td>\n      <td>Revue des Etudes Juives</td>\n      <td>0.000</td>\n      <td>04848616</td>\n      <td>1783175X</td>\n      <td>0.000000000000000</td>\n      <td>0.000000000000000</td>\n      <td>Other</td>\n    </tr>\n    <tr>\n      <th>8</th>\n      <td>12014</td>\n      <td>Anuario de Psicologia</td>\n      <td>0.252</td>\n      <td>00665126</td>\n      <td>-</td>\n      <td>0.251792301023991</td>\n      <td>0.086438007782370</td>\n      <td>Other</td>\n    </tr>\n    <tr>\n      <th>9</th>\n      <td>12016</td>\n      <td>Canadian Journal of Fisheries and Aquatic Scie...</td>\n      <td>1.085</td>\n      <td>0706652X</td>\n      <td>12057533</td>\n      <td>1.084503475669520</td>\n      <td>0.978189484517752</td>\n      <td>Q2</td>\n    </tr>\n  </tbody>\n</table>\n</div>"
     },
     "execution_count": 9,
     "metadata": {},
     "output_type": "execute_result"
    }
   ],
   "source": [
    "thresholds = pd.read_csv('../data/snip-thresholds.csv')[['year', 'threshvalue25', 'threshvalue50']]\n",
    "year = 2020\n",
    "q1_threshold = thresholds[thresholds['year'] == year]['threshvalue25'].values[0]\n",
    "q2_threshold = thresholds[thresholds['year'] == year]['threshvalue50'].values[0]\n",
    "\n",
    "def get_quartile(row):\n",
    "    snip = row['cwts_snip']\n",
    "    lower_bound = row['cwts_lower_bound']\n",
    "\n",
    "    if lower_bound >= q1_threshold:\n",
    "        return 'Q1'\n",
    "    elif snip >= q1_threshold:\n",
    "        return 'Q1*'\n",
    "    elif lower_bound >= q2_threshold:\n",
    "        return 'Q2'\n",
    "    elif snip >= q2_threshold:\n",
    "        return 'Q2*'\n",
    "\n",
    "    return 'Other'\n",
    "\n",
    "\n",
    "scopus['quartile'] = scopus.apply(get_quartile, axis=1)\n",
    "scopus.head(10)"
   ],
   "metadata": {
    "collapsed": false,
    "pycharm": {
     "name": "#%%\n"
    }
   }
  },
  {
   "cell_type": "markdown",
   "source": [
    "Напоследок можно посмотреть, сколько каких журналов у нас получилось:"
   ],
   "metadata": {
    "collapsed": false,
    "pycharm": {
     "name": "#%% md\n"
    }
   }
  },
  {
   "cell_type": "code",
   "execution_count": 10,
   "outputs": [
    {
     "data": {
      "text/plain": "  quartile  count\n0    Other  13384\n1       Q1   3516\n2      Q1*   2749\n3       Q2   2411\n4      Q2*   3930",
      "text/html": "<div>\n<style scoped>\n    .dataframe tbody tr th:only-of-type {\n        vertical-align: middle;\n    }\n\n    .dataframe tbody tr th {\n        vertical-align: top;\n    }\n\n    .dataframe thead th {\n        text-align: right;\n    }\n</style>\n<table border=\"1\" class=\"dataframe\">\n  <thead>\n    <tr style=\"text-align: right;\">\n      <th></th>\n      <th>quartile</th>\n      <th>count</th>\n    </tr>\n  </thead>\n  <tbody>\n    <tr>\n      <th>0</th>\n      <td>Other</td>\n      <td>13384</td>\n    </tr>\n    <tr>\n      <th>1</th>\n      <td>Q1</td>\n      <td>3516</td>\n    </tr>\n    <tr>\n      <th>2</th>\n      <td>Q1*</td>\n      <td>2749</td>\n    </tr>\n    <tr>\n      <th>3</th>\n      <td>Q2</td>\n      <td>2411</td>\n    </tr>\n    <tr>\n      <th>4</th>\n      <td>Q2*</td>\n      <td>3930</td>\n    </tr>\n  </tbody>\n</table>\n</div>"
     },
     "execution_count": 10,
     "metadata": {},
     "output_type": "execute_result"
    }
   ],
   "source": [
    "scopus.groupby(['quartile']).count().reset_index()[['quartile', 'Scopus Source ID']].rename(columns={\n",
    "    \"Scopus Source ID\": \"count\"\n",
    "})"
   ],
   "metadata": {
    "collapsed": false,
    "pycharm": {
     "name": "#%%\n"
    }
   }
  }
 ],
 "metadata": {
  "kernelspec": {
   "display_name": "Python 3",
   "language": "python",
   "name": "python3"
  },
  "language_info": {
   "codemirror_mode": {
    "name": "ipython",
    "version": 2
   },
   "file_extension": ".py",
   "mimetype": "text/x-python",
   "name": "python",
   "nbconvert_exporter": "python",
   "pygments_lexer": "ipython2",
   "version": "2.7.6"
  }
 },
 "nbformat": 4,
 "nbformat_minor": 0
}